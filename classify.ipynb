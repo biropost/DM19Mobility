{
 "cells": [
  {
   "cell_type": "code",
   "execution_count": 1,
   "metadata": {
    "pycharm": {
     "is_executing": false
    }
   },
   "outputs": [
    {
     "name": "stderr",
     "output_type": "stream",
     "text": [
      "Using TensorFlow backend.\n"
     ]
    },
    {
     "name": "stdout",
     "output_type": "stream",
     "text": [
      "['2', '3', '5', 'BICYCLE', 'BUS', 'CAR', 'METRO', 'TRAIN', 'TRAM', 'WAIT', 'WALK']\n"
     ]
    }
   ],
   "source": [
    "import pandas as pd\n",
    "import numpy as np\n",
    "from sklearn.model_selection import KFold\n",
    "from keras.models import Sequential\n",
    "from keras.layers import Dense\n",
    "from keras.layers import Flatten\n",
    "from keras.layers import Dropout\n",
    "from keras.layers.convolutional import Conv1D\n",
    "from keras.layers.convolutional import MaxPooling1D\n",
    "from keras.utils import to_categorical\n",
    "from scipy import fft\n",
    "import matplotlib.pyplot as plt\n",
    "\n",
    "data = pd.read_csv('export_mobility.csv', sep=',')\n",
    "data2 = pd.read_csv('export_mobility_v2.csv', sep=',')\n",
    "data = data[['x', 'y', 'z', 'mode']]\n",
    "data2 = data2[['x', 'y', 'z', 'mode']]\n",
    "data = data.append(data2)\n",
    "data = data.reset_index()\n",
    "modes = list(data.groupby('mode').count().index[1:])\n",
    "print(modes)"
   ]
  },
  {
   "cell_type": "code",
   "execution_count": 2,
   "metadata": {
    "pycharm": {
     "is_executing": false,
     "name": "#%%\n"
    }
   },
   "outputs": [
    {
     "name": "stdout",
     "output_type": "stream",
     "text": [
      "28\n",
      "78\n",
      "147\n",
      "386\n",
      "628\n",
      "1663\n",
      "(1663,)\n"
     ]
    }
   ],
   "source": [
    "i = 0\n",
    "dict = {}\n",
    "X_walk = None\n",
    "X_nowalk = None\n",
    "y_nowalk = None\n",
    "y_walk = None\n",
    "y = None\n",
    "sum = 0\n",
    "for mode in modes:\n",
    "    if mode in ['BICYCLE', 'BUS', 'CAR', 'METRO', 'TRAM', 'WALK']:\n",
    "        df_mode = data[data['mode'] == mode][['x', 'y', 'z']]\n",
    "        n = df_mode.shape[0]\n",
    "        sample_n = 20\n",
    "        sum = int(sum + n/sample_n)\n",
    "        print(sum)\n",
    "        rest = n % sample_n\n",
    "        df_mode.drop(df_mode.tail(rest).index, inplace=True)\n",
    "        n = n-rest\n",
    "        Xx = np.array(df_mode['x']).reshape(int(n / sample_n), sample_n)\n",
    "        xfft = fft(np.array(df_mode['x']).reshape(int(n / sample_n), sample_n), axis=0)\n",
    "        Xy = np.array(df_mode['y']).reshape(int(n / sample_n), sample_n)\n",
    "        yfft = fft(np.array(df_mode['y']).reshape(int(n / sample_n), sample_n), axis=0)\n",
    "        Xz = np.array(df_mode['z']).reshape(int(n / sample_n), sample_n)\n",
    "        zfft = fft(np.array(df_mode['z']).reshape(int(n / sample_n), sample_n), axis=0)\n",
    "        XXX = np.dstack((Xx, Xy, Xz, xfft, yfft, zfft))\n",
    "        \n",
    "        # assign X for both cases\n",
    "        if X_walk is None:\n",
    "            X_walk = XXX\n",
    "        if X_nowalk is None and mode != \"WALK\":\n",
    "            X_nowalk = XXX\n",
    "        else:\n",
    "            X_walk = np.append(X_walk, XXX, axis=0)\n",
    "            if mode != \"WALK\":\n",
    "                X_nowalk = np.append(X_nowalk, XXX, axis=0)\n",
    "\n",
    "        # assign y for both cases as well as the objective one\n",
    "        if y is None:\n",
    "            y = np.full((int(n / sample_n)), i)\n",
    "        else:\n",
    "            y = np.append(y, np.full((int(n/sample_n)), i))\n",
    "            \n",
    "        if y_walk is None:\n",
    "            if mode == \"WALK\":\n",
    "                y_walk = np.full((int(n / sample_n)), 1)\n",
    "            else:\n",
    "                y_walk = np.full((int(n / sample_n)), 0)\n",
    "        if y_nowalk is None and mode != \"WALK\":\n",
    "            y_nowalk = np.full((int(n/sample_n)), i)\n",
    "        else:\n",
    "            if mode == \"WALK\":\n",
    "                y_walk = np.append(y_walk,np.full((int(n/sample_n)), 1))\n",
    "            else:\n",
    "                y_walk = np.append(y_walk, np.full((int(n/sample_n)), 0))\n",
    "                y_nowalk = np.append(y_nowalk, np.full((int(n/sample_n)), i))\n",
    "\n",
    "        dict[mode] = i\n",
    "        i = i+1\n",
    "y_nowalk = to_categorical(y_nowalk)\n",
    "y_walk = to_categorical(y_walk)\n",
    "print(y.shape)"
   ]
  },
  {
   "cell_type": "code",
   "execution_count": 3,
   "metadata": {
    "pycharm": {
     "is_executing": false,
     "name": "#%%\n"
    }
   },
   "outputs": [
    {
     "name": "stderr",
     "output_type": "stream",
     "text": [
      "/usr/local/lib/python3.7/site-packages/tensorflow_core/python/framework/constant_op.py:96: ComplexWarning: Casting complex values to real discards the imaginary part\n",
      "  return ops.EagerTensor(value, ctx.device_name, dtype)\n"
     ]
    },
    {
     "name": "stdout",
     "output_type": "stream",
     "text": [
      "testing accuracy:  0.966966986656189 training accuracy:  0.9969924688339233\n"
     ]
    },
    {
     "name": "stderr",
     "output_type": "stream",
     "text": [
      "/usr/local/lib/python3.7/site-packages/tensorflow_core/python/framework/constant_op.py:96: ComplexWarning: Casting complex values to real discards the imaginary part\n",
      "  return ops.EagerTensor(value, ctx.device_name, dtype)\n"
     ]
    },
    {
     "name": "stdout",
     "output_type": "stream",
     "text": [
      "testing accuracy:  0.9519519805908203 training accuracy:  0.9789473414421082\n"
     ]
    },
    {
     "name": "stderr",
     "output_type": "stream",
     "text": [
      "/usr/local/lib/python3.7/site-packages/tensorflow_core/python/framework/constant_op.py:96: ComplexWarning: Casting complex values to real discards the imaginary part\n",
      "  return ops.EagerTensor(value, ctx.device_name, dtype)\n"
     ]
    },
    {
     "name": "stdout",
     "output_type": "stream",
     "text": [
      "testing accuracy:  0.966966986656189 training accuracy:  0.9902255535125732\n"
     ]
    },
    {
     "name": "stderr",
     "output_type": "stream",
     "text": [
      "/usr/local/lib/python3.7/site-packages/tensorflow_core/python/framework/constant_op.py:96: ComplexWarning: Casting complex values to real discards the imaginary part\n",
      "  return ops.EagerTensor(value, ctx.device_name, dtype)\n"
     ]
    },
    {
     "name": "stdout",
     "output_type": "stream",
     "text": [
      "testing accuracy:  0.9879518151283264 training accuracy:  0.9939894676208496\n"
     ]
    },
    {
     "name": "stderr",
     "output_type": "stream",
     "text": [
      "/usr/local/lib/python3.7/site-packages/tensorflow_core/python/framework/constant_op.py:96: ComplexWarning: Casting complex values to real discards the imaginary part\n",
      "  return ops.EagerTensor(value, ctx.device_name, dtype)\n"
     ]
    },
    {
     "name": "stdout",
     "output_type": "stream",
     "text": [
      "testing accuracy:  0.9789156913757324 training accuracy:  0.9909842014312744\n"
     ]
    }
   ],
   "source": [
    "model_walk = None\n",
    "score_walk = None\n",
    "\n",
    "kfold = KFold(5, True, 1)\n",
    "# enumerate splits\n",
    "for train, test in kfold.split(X_walk):\n",
    "    \n",
    "    x_train, x_test, y_train, y_test = X_walk[train], X_walk[test], y_walk[train], y_walk[test]\n",
    "    \n",
    "    verbose, epochs, batch_size = 0, 10, 32\n",
    "    samples, features, outputs = x_train.shape[1], x_train.shape[2], y_train.shape[1]\n",
    "    \n",
    "    model = Sequential()\n",
    "    \n",
    "    model.add(Conv1D(filters=64, kernel_size=2, activation='relu', input_shape=(samples, features)))\n",
    "    model.add(Conv1D(filters=64, kernel_size=2, activation='relu'))\n",
    "    model.add(Dropout(0.5))\n",
    "    model.add(MaxPooling1D(pool_size=2))\n",
    "    model.add(Flatten())\n",
    "    model.add(Dense(100, activation='relu'))\n",
    "    model.add(Dense(outputs, activation='softmax'))\n",
    "    \n",
    "    model.compile(loss='binary_crossentropy', optimizer='nadam', metrics=['accuracy'])\n",
    "    model.fit(x_train, y_train, epochs=epochs, batch_size=batch_size, verbose=verbose)\n",
    "    \n",
    "    # evaluate the model\n",
    "    _, accuracy_test = model.evaluate(x_test, y_test, batch_size=batch_size, verbose=0)\n",
    "    _, accuracy_train = model.evaluate(x_train, y_train, batch_size=batch_size, verbose=0)\n",
    "    if score_walk is None:\n",
    "        score_walk = accuracy_test\n",
    "    elif accuracy_test > score_walk:\n",
    "        score_walk = accuracy_test\n",
    "        model_walk = model\n",
    "    print(\"testing accuracy: \", accuracy_test, \"training accuracy: \", accuracy_train)\n"
   ]
  },
  {
   "cell_type": "code",
   "execution_count": 6,
   "metadata": {
    "pycharm": {
     "is_executing": false,
     "name": "#%%\n"
    }
   },
   "outputs": [
    {
     "name": "stdout",
     "output_type": "stream",
     "text": [
      "Model: \"sequential_4\"\n",
      "_________________________________________________________________\n",
      "Layer (type)                 Output Shape              Param #   \n",
      "=================================================================\n",
      "conv1d_7 (Conv1D)            (None, 19, 64)            832       \n",
      "_________________________________________________________________\n",
      "conv1d_8 (Conv1D)            (None, 18, 64)            8256      \n",
      "_________________________________________________________________\n",
      "dropout_4 (Dropout)          (None, 18, 64)            0         \n",
      "_________________________________________________________________\n",
      "max_pooling1d_4 (MaxPooling1 (None, 9, 64)             0         \n",
      "_________________________________________________________________\n",
      "flatten_4 (Flatten)          (None, 576)               0         \n",
      "_________________________________________________________________\n",
      "dense_7 (Dense)              (None, 100)               57700     \n",
      "_________________________________________________________________\n",
      "dense_8 (Dense)              (None, 2)                 202       \n",
      "=================================================================\n",
      "Total params: 66,990\n",
      "Trainable params: 66,990\n",
      "Non-trainable params: 0\n",
      "_________________________________________________________________\n"
     ]
    }
   ],
   "source": [
    "model_walk.summary()"
   ]
  },
  {
   "cell_type": "code",
   "execution_count": 7,
   "metadata": {
    "pycharm": {
     "is_executing": false,
     "name": "#%%\n"
    }
   },
   "outputs": [
    {
     "name": "stderr",
     "output_type": "stream",
     "text": [
      "/usr/local/lib/python3.7/site-packages/tensorflow_core/python/framework/constant_op.py:96: ComplexWarning: Casting complex values to real discards the imaginary part\n",
      "  return ops.EagerTensor(value, ctx.device_name, dtype)\n"
     ]
    },
    {
     "name": "stdout",
     "output_type": "stream",
     "text": [
      "testing accuracy:  0.9158729910850525 training accuracy:  0.982868492603302\n"
     ]
    },
    {
     "name": "stderr",
     "output_type": "stream",
     "text": [
      "/usr/local/lib/python3.7/site-packages/tensorflow_core/python/framework/constant_op.py:96: ComplexWarning: Casting complex values to real discards the imaginary part\n",
      "  return ops.EagerTensor(value, ctx.device_name, dtype)\n"
     ]
    },
    {
     "name": "stdout",
     "output_type": "stream",
     "text": [
      "testing accuracy:  0.934920608997345 training accuracy:  0.9808765053749084\n"
     ]
    },
    {
     "name": "stderr",
     "output_type": "stream",
     "text": [
      "/usr/local/lib/python3.7/site-packages/tensorflow_core/python/framework/constant_op.py:96: ComplexWarning: Casting complex values to real discards the imaginary part\n",
      "  return ops.EagerTensor(value, ctx.device_name, dtype)\n"
     ]
    },
    {
     "name": "stdout",
     "output_type": "stream",
     "text": [
      "testing accuracy:  0.9142857193946838 training accuracy:  0.9904382824897766\n"
     ]
    },
    {
     "name": "stderr",
     "output_type": "stream",
     "text": [
      "/usr/local/lib/python3.7/site-packages/tensorflow_core/python/framework/constant_op.py:96: ComplexWarning: Casting complex values to real discards the imaginary part\n",
      "  return ops.EagerTensor(value, ctx.device_name, dtype)\n"
     ]
    },
    {
     "name": "stdout",
     "output_type": "stream",
     "text": [
      "testing accuracy:  0.9296000003814697 training accuracy:  0.9924452900886536\n"
     ]
    },
    {
     "name": "stderr",
     "output_type": "stream",
     "text": [
      "/usr/local/lib/python3.7/site-packages/tensorflow_core/python/framework/constant_op.py:96: ComplexWarning: Casting complex values to real discards the imaginary part\n",
      "  return ops.EagerTensor(value, ctx.device_name, dtype)\n"
     ]
    },
    {
     "name": "stdout",
     "output_type": "stream",
     "text": [
      "testing accuracy:  0.9424000382423401 training accuracy:  0.9888667464256287\n"
     ]
    }
   ],
   "source": [
    "model_nowalk = None\n",
    "score_nowalk = None\n",
    "\n",
    "kfold = KFold(5, True, 1)\n",
    "# enumerate splits\n",
    "for train, test in kfold.split(X_nowalk):\n",
    "    \n",
    "    x_train, x_test, y_train, y_test = X_nowalk[train], X_nowalk[test], y_nowalk[train], y_nowalk[test]\n",
    "    \n",
    "    verbose, epochs, batch_size = 0, 10, 32\n",
    "    samples, features, outputs = x_train.shape[1], x_train.shape[2], y_train.shape[1]\n",
    "    \n",
    "    model = Sequential()\n",
    "    \n",
    "    model.add(Conv1D(filters=64, kernel_size=2, activation='relu', input_shape=(samples, features)))\n",
    "    model.add(Conv1D(filters=64, kernel_size=2, activation='relu'))\n",
    "    model.add(Dropout(0.5))\n",
    "    model.add(MaxPooling1D(pool_size=2))\n",
    "    model.add(Flatten())\n",
    "    model.add(Dense(100, activation='relu'))\n",
    "    model.add(Dense(outputs, activation='softmax'))\n",
    "    \n",
    "    model.compile(loss='binary_crossentropy', optimizer='nadam', metrics=['accuracy'])\n",
    "    model.fit(x_train, y_train, epochs=epochs, batch_size=batch_size, verbose=verbose)\n",
    "    \n",
    "    # evaluate the model\n",
    "    _, accuracy_test = model.evaluate(x_test, y_test, batch_size=batch_size, verbose=0)\n",
    "    _, accuracy_train = model.evaluate(x_train, y_train, batch_size=batch_size, verbose=0)\n",
    "    if score_nowalk is None:\n",
    "        score_nowalk = accuracy_test\n",
    "    elif accuracy_test > score_nowalk:\n",
    "        score_nowalk = accuracy_test\n",
    "        model_nowalk = model\n",
    "    print(\"testing accuracy: \", accuracy_test, \"training accuracy: \", accuracy_train)"
   ]
  },
  {
   "cell_type": "markdown",
   "metadata": {
    "pycharm": {
     "name": "#%% md\n"
    }
   },
   "source": [
    "## Accuracy for Ensembled model"
   ]
  },
  {
   "cell_type": "code",
   "execution_count": 14,
   "metadata": {
    "pycharm": {
     "is_executing": false,
     "name": "#%%\n"
    }
   },
   "outputs": [
    {
     "name": "stdout",
     "output_type": "stream",
     "text": [
      "(1663,) (1663,) (1663,)\n"
     ]
    }
   ],
   "source": [
    "predictions_cl = model_walk.predict_classes(X_walk)\n",
    "predictions_nonwalk_cl = model_nowalk.predict_classes(X_walk)\n",
    "print(predictions_cl.shape, predictions_nonwalk_cl.shape, y.shape)"
   ]
  },
  {
   "cell_type": "code",
   "execution_count": 15,
   "metadata": {
    "pycharm": {
     "is_executing": false,
     "name": "#%%\n"
    }
   },
   "outputs": [
    {
     "name": "stdout",
     "output_type": "stream",
     "text": [
      "error= 0.0006013229104028864 , accuracy= 0.9993986770895971\n"
     ]
    }
   ],
   "source": [
    "idx = np.where(predictions_cl == 1)\n",
    "predictions_cl[idx] = 5\n",
    "idx = np.where(predictions_cl == 0)\n",
    "predictions_cl[idx] = predictions_nonwalk_cl[idx]\n",
    "predictions_cl = np.array(predictions_cl)\n",
    "y = np.array(y)\n",
    "error = predictions_cl - y\n",
    "erridx = np.where(error != 0)\n",
    "error = len(erridx)/len(y)\n",
    "print(\"error=\", error, \", accuracy=\", 1-error)"
   ]
  }
 ],
 "metadata": {
  "kernelspec": {
   "display_name": "Python 3",
   "language": "python",
   "name": "python3"
  },
  "language_info": {
   "codemirror_mode": {
    "name": "ipython",
    "version": 3
   },
   "file_extension": ".py",
   "mimetype": "text/x-python",
   "name": "python",
   "nbconvert_exporter": "python",
   "pygments_lexer": "ipython3",
   "version": "3.7.5"
  },
  "pycharm": {
   "stem_cell": {
    "cell_type": "raw",
    "metadata": {
     "collapsed": false
    },
    "source": []
   }
  }
 },
 "nbformat": 4,
 "nbformat_minor": 1
}
